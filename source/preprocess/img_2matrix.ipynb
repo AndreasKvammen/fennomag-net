{
 "cells": [
  {
   "cell_type": "markdown",
   "id": "caf6cdff",
   "metadata": {},
   "source": [
    "1. Import Required Libraries and Set Paths"
   ]
  },
  {
   "cell_type": "code",
   "execution_count": 1,
   "id": "6503f409",
   "metadata": {},
   "outputs": [],
   "source": [
    "import numpy as np\n",
    "import pandas as pd\n",
    "from PIL import Image\n",
    "import glob\n",
    "import os\n",
    "from datetime import datetime\n",
    "\n",
    "# Define paths\n",
    "input_path = '/Users/akv020/Tensorflow/fennomag-net/data/secs/test_mode_2024/figures'\n",
    "output_path = '/Users/akv020/Tensorflow/fennomag-net/source/model2024/data'\n",
    "\n",
    "# Create output directory if it doesn't exist\n",
    "os.makedirs(output_path, exist_ok=True)"
   ]
  },
  {
   "cell_type": "markdown",
   "id": "ef5c85bf",
   "metadata": {},
   "source": [
    "2. Get List of PNG Files and Extract Timestamps"
   ]
  },
  {
   "cell_type": "code",
   "execution_count": 3,
   "id": "9fd1a1db",
   "metadata": {},
   "outputs": [
    {
     "name": "stdout",
     "output_type": "stream",
     "text": [
      "Total number of images found: 527040\n",
      "Date range: 2024-01-01 00:00:00 to 2024-12-31 23:59:00\n"
     ]
    }
   ],
   "source": [
    "# Get sorted list of all PNG files\n",
    "png_files = sorted(glob.glob(os.path.join(input_path, '*.png')))\n",
    "\n",
    "# Function to extract timestamp from filename\n",
    "def filename_to_datetime(filename):\n",
    "    basename = os.path.basename(filename)\n",
    "    timestamp_str = basename.replace('.png', '')\n",
    "    return datetime.strptime(timestamp_str, '%Y%m%d_%H%M%S')\n",
    "\n",
    "# Extract timestamps and create DatetimeIndex\n",
    "timestamps = [filename_to_datetime(f) for f in png_files]\n",
    "timestamp_index = pd.DatetimeIndex(timestamps)\n",
    "\n",
    "print(f\"Total number of images found: {len(png_files)}\")\n",
    "print(f\"Date range: {timestamp_index.min()} to {timestamp_index.max()}\")"
   ]
  },
  {
   "cell_type": "markdown",
   "id": "16ba071a",
   "metadata": {},
   "source": [
    "3. Create Data Array and Process Images"
   ]
  },
  {
   "cell_type": "code",
   "execution_count": 4,
   "id": "325325ad",
   "metadata": {},
   "outputs": [
    {
     "data": {
      "application/vnd.jupyter.widget-view+json": {
       "model_id": "5e5b9d24e8ca4c7e810a148b46ddf681",
       "version_major": 2,
       "version_minor": 0
      },
      "text/plain": [
       "Processing images:   0%|          | 0/527040 [00:00<?, ?it/s]"
      ]
     },
     "metadata": {},
     "output_type": "display_data"
    },
    {
     "name": "stdout",
     "output_type": "stream",
     "text": [
      "Array shape: (527040, 21, 21, 3)\n",
      "Data type: float32\n",
      "Memory usage: 2.78909568 GB\n"
     ]
    }
   ],
   "source": [
    "# Initialize the array for SECS data with explicit float32\n",
    "n_files = len(png_files)\n",
    "secs_data = np.zeros((n_files, 21, 21, 3), dtype=np.float32)\n",
    "\n",
    "# Process all images with progress tracking\n",
    "from tqdm.notebook import tqdm\n",
    "\n",
    "for i, png_file in tqdm(enumerate(png_files), total=n_files, desc=\"Processing images\"):\n",
    "    # Read image\n",
    "    img = Image.open(png_file)\n",
    "    # Convert to numpy array and ensure float32\n",
    "    img_array = np.asarray(img, dtype=np.float32) / np.float32(255.0)\n",
    "    secs_data[i] = img_array\n",
    "\n",
    "print(\"Array shape:\", secs_data.shape)\n",
    "print(\"Data type:\", secs_data.dtype)\n",
    "print(\"Memory usage:\", secs_data.nbytes / 1e9, \"GB\")"
   ]
  },
  {
   "cell_type": "markdown",
   "id": "5664eade",
   "metadata": {},
   "source": [
    "4. Save Arrays to Disk (ensuring float32)\n"
   ]
  },
  {
   "cell_type": "code",
   "execution_count": 5,
   "id": "0fdf4f79",
   "metadata": {},
   "outputs": [
    {
     "name": "stdout",
     "output_type": "stream",
     "text": [
      "Files saved successfully!\n"
     ]
    }
   ],
   "source": [
    "# Save the data array and timestamps\n",
    "np.save(os.path.join(output_path, 'secs_data.npy'), secs_data)\n",
    "np.save(os.path.join(output_path, 'secs_timestamps.npy'), timestamp_index.values)\n",
    "\n",
    "print(\"Files saved successfully!\")"
   ]
  },
  {
   "cell_type": "markdown",
   "id": "b24059c4",
   "metadata": {},
   "source": [
    "5. Verification (Optional)"
   ]
  },
  {
   "cell_type": "code",
   "execution_count": 6,
   "id": "49e92ec9",
   "metadata": {},
   "outputs": [
    {
     "name": "stdout",
     "output_type": "stream",
     "text": [
      "Verification:\n",
      "Data shape: (527040, 21, 21, 3)\n",
      "Data type: float32\n",
      "Data range: 0.0 to 0.99607843\n",
      "Timestamps shape: (527040,)\n",
      "First timestamp: 2024-01-01 00:00:00\n",
      "Last timestamp: 2024-12-31 23:59:00\n"
     ]
    }
   ],
   "source": [
    "# Load and verify the saved data\n",
    "loaded_data = np.load(os.path.join(output_path, 'secs_data.npy'))\n",
    "loaded_timestamps = np.load(os.path.join(output_path, 'secs_timestamps.npy'))\n",
    "\n",
    "print(\"Verification:\")\n",
    "print(\"Data shape:\", loaded_data.shape)\n",
    "print(\"Data type:\", loaded_data.dtype)\n",
    "print(\"Data range:\", loaded_data.min(), \"to\", loaded_data.max())\n",
    "print(\"Timestamps shape:\", loaded_timestamps.shape)\n",
    "print(\"First timestamp:\", pd.Timestamp(loaded_timestamps[0]))\n",
    "print(\"Last timestamp:\", pd.Timestamp(loaded_timestamps[-1]))"
   ]
  },
  {
   "cell_type": "code",
   "execution_count": 7,
   "id": "a4802c1e",
   "metadata": {},
   "outputs": [
    {
     "data": {
      "text/plain": [
       "'/Users/akv020/Tensorflow/fennomag-net/source/preprocess'"
      ]
     },
     "execution_count": 7,
     "metadata": {},
     "output_type": "execute_result"
    }
   ],
   "source": [
    "pwd"
   ]
  },
  {
   "cell_type": "code",
   "execution_count": 8,
   "id": "93e86330",
   "metadata": {},
   "outputs": [
    {
     "data": {
      "text/plain": [
       "'/Users/akv020/Tensorflow/fennomag-net/source/model2024/data'"
      ]
     },
     "execution_count": 8,
     "metadata": {},
     "output_type": "execute_result"
    }
   ],
   "source": [
    "output_path"
   ]
  },
  {
   "cell_type": "code",
   "execution_count": null,
   "id": "2ed863d3",
   "metadata": {},
   "outputs": [],
   "source": []
  }
 ],
 "metadata": {
  "kernelspec": {
   "display_name": "Python 3.10 (tensorflow)",
   "language": "python",
   "name": "tensorflow"
  },
  "language_info": {
   "codemirror_mode": {
    "name": "ipython",
    "version": 3
   },
   "file_extension": ".py",
   "mimetype": "text/x-python",
   "name": "python",
   "nbconvert_exporter": "python",
   "pygments_lexer": "ipython3",
   "version": "3.10.9"
  }
 },
 "nbformat": 4,
 "nbformat_minor": 5
}
